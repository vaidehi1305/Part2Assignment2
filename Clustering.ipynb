{
 "cells": [
  {
   "cell_type": "code",
   "execution_count": 45,
   "metadata": {
    "collapsed": false
   },
   "outputs": [
    {
     "name": "stderr",
     "output_type": "stream",
     "text": [
      "\n",
      "Attaching package: 'dplyr'\n",
      "\n",
      "The following objects are masked from 'package:stats':\n",
      "\n",
      "    filter, lag\n",
      "\n",
      "The following objects are masked from 'package:base':\n",
      "\n",
      "    intersect, setdiff, setequal, union\n",
      "\n",
      "Warning message:\n",
      "\"package 'cluster' was built under R version 3.3.3\"Warning message:\n",
      "\"package 'Rtsne' was built under R version 3.3.3\""
     ]
    }
   ],
   "source": [
    "library(dplyr)\n",
    "library(cluster)\n",
    "library(Rtsne)\n",
    "library(ggplot2)"
   ]
  },
  {
   "cell_type": "code",
   "execution_count": 2,
   "metadata": {
    "collapsed": false
   },
   "outputs": [],
   "source": [
    "LendingClub <- read.csv(\"CleanedLoanDataset.csv\")"
   ]
  },
  {
   "cell_type": "code",
   "execution_count": null,
   "metadata": {
    "collapsed": false
   },
   "outputs": [],
   "source": [
    "#str(LendingClubLoan)"
   ]
  },
  {
   "cell_type": "code",
   "execution_count": 1,
   "metadata": {
    "collapsed": false
   },
   "outputs": [],
   "source": [
    "#colnames(LendingClub)"
   ]
  },
  {
   "cell_type": "code",
   "execution_count": 37,
   "metadata": {
    "collapsed": true
   },
   "outputs": [],
   "source": [
    "LendingClub$credit_history=LendingClub$last_credit_pull_year-LendingClub$earliest_cr_line_year"
   ]
  },
  {
   "cell_type": "code",
   "execution_count": 53,
   "metadata": {
    "collapsed": false
   },
   "outputs": [],
   "source": [
    "LendingClubLoan_Clustering <- dplyr:: select(LendingClub, loan_amnt,state, ficoMean, inq_last_6mths, purpose_num,installment,\n",
    "                                             dti,loan_status_num)\n"
   ]
  },
  {
   "cell_type": "code",
   "execution_count": 54,
   "metadata": {
    "collapsed": false
   },
   "outputs": [],
   "source": [
    "LendingClubLoan_Clustering <- LendingClubLoan_Clustering[sample(1:nrow(LendingClubLoan_Clustering),\n",
    "                                                                5000, replace=FALSE), ]"
   ]
  },
  {
   "cell_type": "code",
   "execution_count": 182,
   "metadata": {
    "collapsed": false,
    "scrolled": true
   },
   "outputs": [],
   "source": [
    "#str(LendingClubLoan_Clustering)"
   ]
  },
  {
   "cell_type": "code",
   "execution_count": 55,
   "metadata": {
    "collapsed": false
   },
   "outputs": [],
   "source": [
    "gower_dist <- daisy(LendingClubLoan_Clustering, metric = \"gower\")"
   ]
  },
  {
   "cell_type": "code",
   "execution_count": 56,
   "metadata": {
    "collapsed": false
   },
   "outputs": [
    {
     "data": {
      "text/plain": [
       "12497500 dissimilarities, summarized :\n",
       "     Min.   1st Qu.    Median      Mean   3rd Qu.      Max. \n",
       "0.0012879 0.1385400 0.1813100 0.1865100 0.2286600 0.6514100 \n",
       "Metric :  mixed ;  Types = I, I, I, I, I, I, I, I \n",
       "Number of objects : 5000"
      ]
     },
     "metadata": {},
     "output_type": "display_data"
    }
   ],
   "source": [
    "summary(gower_dist)"
   ]
  },
  {
   "cell_type": "code",
   "execution_count": 57,
   "metadata": {
    "collapsed": true
   },
   "outputs": [],
   "source": [
    "gower_mat <- as.matrix(gower_dist)"
   ]
  },
  {
   "cell_type": "code",
   "execution_count": 58,
   "metadata": {
    "collapsed": false
   },
   "outputs": [
    {
     "data": {
      "text/html": [
       "<table>\n",
       "<thead><tr><th></th><th scope=col>loan_amnt</th><th scope=col>state</th><th scope=col>ficoMean</th><th scope=col>inq_last_6mths</th><th scope=col>purpose_num</th><th scope=col>installment</th><th scope=col>dti</th><th scope=col>loan_status_num</th></tr></thead>\n",
       "<tbody>\n",
       "\t<tr><th scope=row>1319572</th><td>15000 </td><td>5     </td><td>747   </td><td>0     </td><td>6     </td><td>476.93</td><td>27.73 </td><td>1     </td></tr>\n",
       "\t<tr><th scope=row>678382</th><td>15000 </td><td>5     </td><td>747   </td><td>0     </td><td>6     </td><td>469.29</td><td>27.33 </td><td>1     </td></tr>\n",
       "</tbody>\n",
       "</table>\n"
      ],
      "text/latex": [
       "\\begin{tabular}{r|llllllll}\n",
       "  & loan\\_amnt & state & ficoMean & inq\\_last\\_6mths & purpose\\_num & installment & dti & loan\\_status\\_num\\\\\n",
       "\\hline\n",
       "\t1319572 & 15000  & 5      & 747    & 0      & 6      & 476.93 & 27.73  & 1     \\\\\n",
       "\t678382 & 15000  & 5      & 747    & 0      & 6      & 469.29 & 27.33  & 1     \\\\\n",
       "\\end{tabular}\n"
      ],
      "text/markdown": [
       "\n",
       "| <!--/--> | loan_amnt | state | ficoMean | inq_last_6mths | purpose_num | installment | dti | loan_status_num | \n",
       "|---|---|\n",
       "| 1319572 | 15000  | 5      | 747    | 0      | 6      | 476.93 | 27.73  | 1      | \n",
       "| 678382 | 15000  | 5      | 747    | 0      | 6      | 469.29 | 27.33  | 1      | \n",
       "\n",
       "\n"
      ],
      "text/plain": [
       "        loan_amnt state ficoMean inq_last_6mths purpose_num installment dti  \n",
       "1319572 15000     5     747      0              6           476.93      27.73\n",
       "678382  15000     5     747      0              6           469.29      27.33\n",
       "        loan_status_num\n",
       "1319572 1              \n",
       "678382  1              "
      ]
     },
     "metadata": {},
     "output_type": "display_data"
    }
   ],
   "source": [
    "LendingClubLoan_Clustering[\n",
    "  which(gower_mat == min(gower_mat[gower_mat != min(gower_mat)]),\n",
    "        arr.ind = TRUE)[1, ], ]"
   ]
  },
  {
   "cell_type": "code",
   "execution_count": 59,
   "metadata": {
    "collapsed": false
   },
   "outputs": [
    {
     "data": {
      "text/html": [
       "<table>\n",
       "<thead><tr><th></th><th scope=col>loan_amnt</th><th scope=col>state</th><th scope=col>ficoMean</th><th scope=col>inq_last_6mths</th><th scope=col>purpose_num</th><th scope=col>installment</th><th scope=col>dti</th><th scope=col>loan_status_num</th></tr></thead>\n",
       "<tbody>\n",
       "\t<tr><th scope=row>42397</th><td> 8550  </td><td>10     </td><td>642    </td><td>4      </td><td> 3     </td><td> 305.77</td><td> 8.84  </td><td>9      </td></tr>\n",
       "\t<tr><th scope=row>1246489</th><td>35000  </td><td>36     </td><td>747    </td><td>0      </td><td>12     </td><td>1230.33</td><td>32.11  </td><td>1      </td></tr>\n",
       "</tbody>\n",
       "</table>\n"
      ],
      "text/latex": [
       "\\begin{tabular}{r|llllllll}\n",
       "  & loan\\_amnt & state & ficoMean & inq\\_last\\_6mths & purpose\\_num & installment & dti & loan\\_status\\_num\\\\\n",
       "\\hline\n",
       "\t42397 &  8550   & 10      & 642     & 4       &  3      &  305.77 &  8.84   & 9      \\\\\n",
       "\t1246489 & 35000   & 36      & 747     & 0       & 12      & 1230.33 & 32.11   & 1      \\\\\n",
       "\\end{tabular}\n"
      ],
      "text/markdown": [
       "\n",
       "| <!--/--> | loan_amnt | state | ficoMean | inq_last_6mths | purpose_num | installment | dti | loan_status_num | \n",
       "|---|---|\n",
       "| 42397 |  8550   | 10      | 642     | 4       |  3      |  305.77 |  8.84   | 9       | \n",
       "| 1246489 | 35000   | 36      | 747     | 0       | 12      | 1230.33 | 32.11   | 1       | \n",
       "\n",
       "\n"
      ],
      "text/plain": [
       "        loan_amnt state ficoMean inq_last_6mths purpose_num installment dti  \n",
       "42397    8550     10    642      4               3           305.77      8.84\n",
       "1246489 35000     36    747      0              12          1230.33     32.11\n",
       "        loan_status_num\n",
       "42397   9              \n",
       "1246489 1              "
      ]
     },
     "metadata": {},
     "output_type": "display_data"
    }
   ],
   "source": [
    "LendingClubLoan_Clustering[\n",
    "  which(gower_mat == max(gower_mat[gower_mat != max(gower_mat)]),\n",
    "        arr.ind = TRUE)[1, ], ]"
   ]
  },
  {
   "cell_type": "code",
   "execution_count": 60,
   "metadata": {
    "collapsed": false
   },
   "outputs": [
    {
     "data": {
      "text/plain": [
       "[1] NA"
      ]
     },
     "metadata": {},
     "output_type": "display_data"
    }
   ],
   "source": [
    "sil_width <- c(NA)\n",
    "sil_width"
   ]
  },
  {
   "cell_type": "code",
   "execution_count": 61,
   "metadata": {
    "collapsed": false
   },
   "outputs": [],
   "source": [
    "for(i in 2:10){\n",
    "  pam_fit <- pam(gower_dist,\n",
    "                 diss = TRUE,\n",
    "                 k = i)\n",
    "  \n",
    "  sil_width[i] <- pam_fit$silinfo$avg.width\n",
    "  \n",
    "}\n",
    "#sil_width"
   ]
  },
  {
   "cell_type": "code",
   "execution_count": 62,
   "metadata": {
    "collapsed": false,
    "scrolled": false
   },
   "outputs": [
    {
     "data": {
      "image/png": "[encoded data removed]",
      "text/plain": [
       "plot without title"
      ]
     },
     "metadata": {},
     "output_type": "display_data"
    }
   ],
   "source": [
    "plot(1:10, sil_width,\n",
    "     xlab = \"Number of clusters\",\n",
    "     ylab = \"Silhouette Width\")\n",
    "lines(1:10, sil_width)"
   ]
  },
  {
   "cell_type": "code",
   "execution_count": 63,
   "metadata": {
    "collapsed": true
   },
   "outputs": [],
   "source": [
    "pam_fit <- pam(gower_dist, diss = TRUE, k = 2)"
   ]
  },
  {
   "cell_type": "code",
   "execution_count": 64,
   "metadata": {
    "collapsed": true
   },
   "outputs": [],
   "source": [
    "pam_results <- LendingClubLoan_Clustering %>%\n",
    "  mutate(cluster = pam_fit$clustering) %>%\n",
    "  group_by(cluster) %>%\n",
    "  do(the_summary = summary(.))"
   ]
  },
  {
   "cell_type": "code",
   "execution_count": 77,
   "metadata": {
    "collapsed": false
   },
   "outputs": [],
   "source": [
    "#group_by(cluster)"
   ]
  },
  {
   "cell_type": "code",
   "execution_count": 77,
   "metadata": {
    "collapsed": false
   },
   "outputs": [],
   "source": [
    "#pam_results$the_summary"
   ]
  },
  {
   "cell_type": "code",
   "execution_count": 65,
   "metadata": {
    "collapsed": false
   },
   "outputs": [
    {
     "data": {
      "text/html": [
       "<table>\n",
       "<thead><tr><th></th><th scope=col>loan_amnt</th><th scope=col>state</th><th scope=col>ficoMean</th><th scope=col>inq_last_6mths</th><th scope=col>purpose_num</th><th scope=col>installment</th><th scope=col>dti</th><th scope=col>loan_status_num</th></tr></thead>\n",
       "<tbody>\n",
       "\t<tr><th scope=row>1176515</th><td>14000 </td><td>35    </td><td>692   </td><td>0     </td><td>6     </td><td>461.60</td><td>19.47 </td><td>1     </td></tr>\n",
       "\t<tr><th scope=row>1319611</th><td>12000 </td><td> 7    </td><td>687   </td><td>0     </td><td>6     </td><td>352.15</td><td>18.62 </td><td>1     </td></tr>\n",
       "</tbody>\n",
       "</table>\n"
      ],
      "text/latex": [
       "\\begin{tabular}{r|llllllll}\n",
       "  & loan\\_amnt & state & ficoMean & inq\\_last\\_6mths & purpose\\_num & installment & dti & loan\\_status\\_num\\\\\n",
       "\\hline\n",
       "\t1176515 & 14000  & 35     & 692    & 0      & 6      & 461.60 & 19.47  & 1     \\\\\n",
       "\t1319611 & 12000  &  7     & 687    & 0      & 6      & 352.15 & 18.62  & 1     \\\\\n",
       "\\end{tabular}\n"
      ],
      "text/markdown": [
       "\n",
       "| <!--/--> | loan_amnt | state | ficoMean | inq_last_6mths | purpose_num | installment | dti | loan_status_num | \n",
       "|---|---|\n",
       "| 1176515 | 14000  | 35     | 692    | 0      | 6      | 461.60 | 19.47  | 1      | \n",
       "| 1319611 | 12000  |  7     | 687    | 0      | 6      | 352.15 | 18.62  | 1      | \n",
       "\n",
       "\n"
      ],
      "text/plain": [
       "        loan_amnt state ficoMean inq_last_6mths purpose_num installment dti  \n",
       "1176515 14000     35    692      0              6           461.60      19.47\n",
       "1319611 12000      7    687      0              6           352.15      18.62\n",
       "        loan_status_num\n",
       "1176515 1              \n",
       "1319611 1              "
      ]
     },
     "metadata": {},
     "output_type": "display_data"
    }
   ],
   "source": [
    "LendingClubLoan_Clustering[pam_fit$medoids, ]"
   ]
  },
  {
   "cell_type": "code",
   "execution_count": 66,
   "metadata": {
    "collapsed": true
   },
   "outputs": [],
   "source": [
    "tsne_obj <- Rtsne(gower_dist, is_distance = TRUE)"
   ]
  },
  {
   "cell_type": "code",
   "execution_count": 67,
   "metadata": {
    "collapsed": true
   },
   "outputs": [],
   "source": [
    "tsne_data <- tsne_obj$Y %>%\n",
    "  data.frame() %>%\n",
    "  setNames(c(\"X\", \"Y\")) %>%\n",
    "  mutate(cluster = factor(pam_fit$clustering))"
   ]
  },
  {
   "cell_type": "code",
   "execution_count": 68,
   "metadata": {
    "collapsed": false
   },
   "outputs": [
    {
     "data": {},
     "metadata": {},
     "output_type": "display_data"
    },
    {
     "data": {
      "image/png": "[encoded data removed]",
      "text/plain": [
       "plot without title"
      ]
     },
     "metadata": {},
     "output_type": "display_data"
    }
   ],
   "source": [
    "ggplot(aes(x = X, y = Y), data = tsne_data) +\n",
    "  geom_point(aes(color = cluster)) +\n",
    "  ggtitle(\"Clusters on reduced-dimension\")"
   ]
  }
 ],
 "metadata": {
  "kernelspec": {
   "display_name": "R",
   "language": "R",
   "name": "ir"
  },
  "language_info": {
   "codemirror_mode": "r",
   "file_extension": ".r",
   "mimetype": "text/x-r-source",
   "name": "R",
   "pygments_lexer": "r",
   "version": "3.3.2"
  }
 },
 "nbformat": 4,
 "nbformat_minor": 2
}
